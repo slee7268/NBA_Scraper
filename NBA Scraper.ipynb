{
 "cells": [
  {
   "cell_type": "code",
   "execution_count": 102,
   "metadata": {},
   "outputs": [],
   "source": [
    "import urllib.request\n",
    "from bs4 import BeautifulSoup\n",
    "import string\n",
    "import pandas as pd"
   ]
  },
  {
   "cell_type": "code",
   "execution_count": 4,
   "metadata": {
    "collapsed": true
   },
   "outputs": [],
   "source": [
    "url=\"https://www.basketball-reference.com/players/\""
   ]
  },
  {
   "cell_type": "code",
   "execution_count": 184,
   "metadata": {},
   "outputs": [],
   "source": [
    "alphabet=string.ascii_lowercase\n",
    "playerURL=[]\n",
    "playerID=[]\n",
    "playerName=[]\n",
    "yearStart=[]\n",
    "yearEnd=[]\n",
    "position=[]\n",
    "height=[]\n",
    "weight=[]\n",
    "birthday=[]\n",
    "college=[]"
   ]
  },
  {
   "cell_type": "code",
   "execution_count": 185,
   "metadata": {},
   "outputs": [],
   "source": [
    "for i in range(0,26):\n",
    "    playerURL.append(url+alphabet[i])\n",
    "del playerURL[23]"
   ]
  },
  {
   "cell_type": "code",
   "execution_count": 186,
   "metadata": {},
   "outputs": [],
   "source": [
    "for i in range(0,25):\n",
    "    x = urllib.request.urlopen(playerURL[i]).read()\n",
    "    soup = BeautifulSoup(x, \"lxml\")\n",
    "    playerTag=soup.findAll(attrs={\"data-stat\" : \"player\"})\n",
    "    YearMinTag=soup.findAll(attrs={\"data-stat\" : \"year_min\"})\n",
    "    YearMaxTag=soup.findAll(attrs={\"data-stat\" : \"year_max\"})\n",
    "    positionTag=soup.findAll(attrs={\"data-stat\" : \"pos\"})\n",
    "    heightTag=soup.findAll(attrs={\"data-stat\" : \"height\"})\n",
    "    weightTag=soup.findAll(attrs={\"data-stat\" : \"weight\"})\n",
    "    bdayTag=soup.findAll(attrs={\"data-stat\" : \"birth_date\"})\n",
    "    collegeTag=soup.findAll(attrs={\"data-stat\" : \"college_name\"})\n",
    "\n",
    "    for i in range(1, len(playerTag)):\n",
    "        playerID.append(playerTag[i].attrs[\"data-append-csv\"])\n",
    "        playerName.append(playerTag[i].a.contents[0])\n",
    "        yearStart.append(YearMinTag[i].contents[0])\n",
    "        yearEnd.append(YearMaxTag[i].contents[0])\n",
    "        if(not positionTag[i].contents):\n",
    "            position.append(\"\")\n",
    "        else:\n",
    "            position.append(positionTag[i].contents[0])\n",
    "        if(not heightTag[i].contents):\n",
    "            height.append(\"\")\n",
    "        else:\n",
    "            height.append(heightTag[i].contents[0])\n",
    "        if(not weightTag[i].contents):\n",
    "            weight.append(\"\")\n",
    "        else:\n",
    "            weight.append(weightTag[i].contents[0])\n",
    "        if(not bdayTag[i].contents):\n",
    "            birthday.append(\"\")\n",
    "        else:\n",
    "            birthday.append(bdayTag[i].a.contents[0])\n",
    "        if(not collegeTag[i].contents):\n",
    "            college.append(\"\")\n",
    "        else:\n",
    "            college.append(collegeTag[i].a.contents[0])\n"
   ]
  },
  {
   "cell_type": "code",
   "execution_count": 187,
   "metadata": {},
   "outputs": [],
   "source": [
    "labels = ['Player_ID', 'Name', 'YrStart', 'YrEnd', 'Pos', 'Height', 'Weight', 'Birth_date', 'College']\n",
    "player_df = pd.DataFrame({\"Player_ID\": playerID,\n",
    "                         \"Name\": playerName,\n",
    "                         \"YrStart\": yearStart,\n",
    "                         \"YrEnd\": yearEnd,\n",
    "                         \"Pos\": position,\n",
    "                         \"Height\": height,\n",
    "                         \"Weight\": weight,\n",
    "                         \"Birth_date\" : birthday,\n",
    "                         \"College\" : college})\n",
    "player_df=player_df[labels]\n"
   ]
  },
  {
   "cell_type": "code",
   "execution_count": 189,
   "metadata": {},
   "outputs": [],
   "source": [
    "player_df.to_csv(\"NBA_Players.csv\")"
   ]
  }
 ],
 "metadata": {
  "kernelspec": {
   "display_name": "Python [conda root]",
   "language": "python",
   "name": "conda-root-py"
  },
  "language_info": {
   "codemirror_mode": {
    "name": "ipython",
    "version": 3
   },
   "file_extension": ".py",
   "mimetype": "text/x-python",
   "name": "python",
   "nbconvert_exporter": "python",
   "pygments_lexer": "ipython3",
   "version": "3.5.2"
  }
 },
 "nbformat": 4,
 "nbformat_minor": 1
}
